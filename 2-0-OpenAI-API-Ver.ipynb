{
  "nbformat": 4,
  "nbformat_minor": 0,
  "metadata": {
    "colab": {
      "provenance": [],
      "authorship_tag": "ABX9TyPrqKqrSO6HiIiFkimGaa/p",
      "include_colab_link": true
    },
    "kernelspec": {
      "name": "python3",
      "display_name": "Python 3"
    },
    "language_info": {
      "name": "python"
    }
  },
  "cells": [
    {
      "cell_type": "markdown",
      "metadata": {
        "id": "view-in-github",
        "colab_type": "text"
      },
      "source": [
        "<a href=\"https://colab.research.google.com/github/JSJeong-me/KOSA_GPT_RPA/blob/main/2-0-OpenAI-API-Ver.ipynb\" target=\"_parent\"><img src=\"https://colab.research.google.com/assets/colab-badge.svg\" alt=\"Open In Colab\"/></a>"
      ]
    },
    {
      "cell_type": "code",
      "source": [
        "# !pip install openai"
      ],
      "metadata": {
        "id": "rz7xD2maAc2B"
      },
      "execution_count": null,
      "outputs": []
    },
    {
      "cell_type": "code",
      "source": [
        "!pip install openai --upgrade"
      ],
      "metadata": {
        "id": "aqdHilUWFBbD"
      },
      "execution_count": null,
      "outputs": []
    },
    {
      "cell_type": "code",
      "source": [
        "!pip show openai | grep Version"
      ],
      "metadata": {
        "colab": {
          "base_uri": "https://localhost:8080/"
        },
        "id": "G7v8TN6OCX6k",
        "outputId": "3247be02-a874-489b-96e0-ce68e15af50c"
      },
      "execution_count": 9,
      "outputs": [
        {
          "output_type": "stream",
          "name": "stdout",
          "text": [
            "Version: 1.3.0\n"
          ]
        }
      ]
    },
    {
      "cell_type": "markdown",
      "source": [
        "### Version: 1.3.0"
      ],
      "metadata": {
        "id": "iaI_mWrPFdvH"
      }
    },
    {
      "cell_type": "code",
      "source": [
        "from openai import OpenAI\n",
        "\n",
        "client = OpenAI(api_key='sk-')\n",
        "\n",
        "response = client.completions.create(\n",
        "    model=\"text-davinci-003\",  # Use a compatible model\n",
        "    prompt=\"고래를 주제로 재미난 이야기 3개 문장으로 작성\",\n",
        "    max_tokens=1024\n",
        ")\n",
        "\n",
        "print(response.choices[0].text)\n"
      ],
      "metadata": {
        "colab": {
          "base_uri": "https://localhost:8080/"
        },
        "id": "Kuk4q_16Gf2B",
        "outputId": "9e216419-4ffb-4999-9a94-11f0705b5d8d"
      },
      "execution_count": 8,
      "outputs": [
        {
          "output_type": "stream",
          "name": "stdout",
          "text": [
            "해주세요.\n",
            "\n",
            "1. 한 산속 바다에 고래가 자기를 감춰진 건물에 갇혀 있더라고 하는데, 늘 낚시하려는 바다 속 손님에게 낚시 중간에 고래가 얇아진 벽에서 보이는 엄청난 안면으로 놀라게 해줬대요.\n",
            "\n",
            "2. 고래를 좋아하는 다리를 지나가다보면, 길가 가장 끝에서 바다로 튀어나와 건너길을 따라 나가다보면 거북하가 다리의 밑바닥에서 고래들이 섞여 연합드랍하고 있는 것을 저는 보았어요.\n",
            "\n",
            "3. 고래는 산맥이 있는 아라비아의 남해에서 마중나와 수영을 할 때, 고래가 강 위를 걷고 있는 걸 보고 갑자기 이렇게 길들여진 고래가 있다고 하는 상황이 생겨 갑자기 속삭여서 놀라는 사람들도 이 생각이 들 때가 있었습니다.\n"
          ]
        }
      ]
    },
    {
      "cell_type": "code",
      "source": [
        "import openai\n",
        "\n",
        "# Set your API key here\n",
        "openai.api_key = 'sk-'\n",
        "\n",
        "response = openai.Completion.create(\n",
        "    model=\"text-davinci-003\",  # Replace with your desired model\n",
        "    prompt=\"고래를 주제로\\n재미난 이야기\\n3개 문장으로 작성\",\n",
        "    max_tokens=1024\n",
        ")\n",
        "\n",
        "print(response.choices[0].text)\n"
      ],
      "metadata": {
        "colab": {
          "base_uri": "https://localhost:8080/"
        },
        "id": "sX6V1GMFDmCf",
        "outputId": "bbb17760-dce7-4631-d438-39121d4123e3"
      },
      "execution_count": 15,
      "outputs": [
        {
          "output_type": "stream",
          "name": "stdout",
          "text": [
            "하기\n",
            "\n",
            "1. 한 번 이야기를 들어보겠습니다. 어느 날 바다에서 고래가 나타나고, 경건하게 다가오면서 깜짝 선물을 주었다고 합니다.\n",
            "2. 고래는 처음에 그 선물은 바다 속에 숨겨놓았다고 하더군요. 바다 바깥을 노를 저으며 되려고 했는데, 손에닿을 때까지 안녕이라는 한 마디가 들려왔다고.\n",
            "3. 그래서 사람들은 그 마디가 느낌에 따라 생각해보니, 선물이 바다 바깥 세계로 가는 또 다른 바다로 연결하는 봉쇄를 없애는 역할을 하고 있다는 것을 알게 되었다. 그래서 고래는 사람들에게 감사를 보냈다는 이야기입니다.\n"
          ]
        }
      ]
    }
  ]
}