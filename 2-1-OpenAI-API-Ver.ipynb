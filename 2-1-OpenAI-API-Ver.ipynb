{
  "nbformat": 4,
  "nbformat_minor": 0,
  "metadata": {
    "colab": {
      "provenance": [],
      "authorship_tag": "ABX9TyMK/iZBvNcR0C767HOmjSsf",
      "include_colab_link": true
    },
    "kernelspec": {
      "name": "python3",
      "display_name": "Python 3"
    },
    "language_info": {
      "name": "python"
    }
  },
  "cells": [
    {
      "cell_type": "markdown",
      "metadata": {
        "id": "view-in-github",
        "colab_type": "text"
      },
      "source": [
        "<a href=\"https://colab.research.google.com/github/JSJeong-me/KOSA_GPT_RPA/blob/main/2-1-OpenAI-API-Ver.ipynb\" target=\"_parent\"><img src=\"https://colab.research.google.com/assets/colab-badge.svg\" alt=\"Open In Colab\"/></a>"
      ]
    },
    {
      "cell_type": "code",
      "execution_count": null,
      "metadata": {
        "id": "bbV90-kMJ3K9"
      },
      "outputs": [],
      "source": [
        "!pip install openai --upgrade"
      ]
    },
    {
      "cell_type": "code",
      "source": [
        "!pip show openai | grep Version"
      ],
      "metadata": {
        "colab": {
          "base_uri": "https://localhost:8080/"
        },
        "id": "xSPxC4mbJ8tY",
        "outputId": "59f1b6c2-c024-4b83-c37e-b55710edcf27"
      },
      "execution_count": 3,
      "outputs": [
        {
          "output_type": "stream",
          "name": "stdout",
          "text": [
            "Version: 1.3.0\n"
          ]
        }
      ]
    },
    {
      "cell_type": "code",
      "source": [
        "# This code is for v1 of the openai package: pypi.org/project/openai\n",
        "from openai import OpenAI\n",
        "client = OpenAI(api_key='sk-')\n",
        "\n",
        "response = client.chat.completions.create(\n",
        "  model=\"gpt-3.5-turbo\",\n",
        "  messages=[\n",
        "    {\n",
        "      \"role\": \"system\",\n",
        "      \"content\": \"당신은 훌륭한 소설가이고, 나는 당신 글을 좋아하는 사람입니다\"\n",
        "    },\n",
        "    {\n",
        "      \"role\": \"user\",\n",
        "      \"content\": \"고래를 주제로 아주 재미난 이야기를 3개의 문장으로 작성해 주세요.\"\n",
        "    }\n",
        "  ],\n",
        "  temperature=1,\n",
        "  max_tokens=256,\n",
        "  top_p=1,\n",
        "  frequency_penalty=0,\n",
        "  presence_penalty=0\n",
        ")"
      ],
      "metadata": {
        "id": "aVWDD5PAJ40S"
      },
      "execution_count": 4,
      "outputs": []
    },
    {
      "cell_type": "code",
      "source": [
        "print(response)"
      ],
      "metadata": {
        "colab": {
          "base_uri": "https://localhost:8080/"
        },
        "id": "mYzxLgqDKRgi",
        "outputId": "d457daf8-8ea5-4b67-c3ea-10f6c75be267"
      },
      "execution_count": 5,
      "outputs": [
        {
          "output_type": "stream",
          "name": "stdout",
          "text": [
            "ChatCompletion(id='chatcmpl-8LW0y0bX2Ik5Z0ls0p7wVXIF1DcJX', choices=[Choice(finish_reason='stop', index=0, message=ChatCompletionMessage(content='1. 한 바닷속에 사는 작은 고래가 마을에서 유명한 노래가수가 되기 위해 열심히 연습을 했습니다.\\n\\n2. 그러던 어느 날, 큰 파도와 함께 찾아온 거대한 고래가 작은 고래의 마을을 위협했습니다.\\n\\n3. 작은 고래는 용감하게 일어서서 자신의 노래와 정성으로 거대한 고래를 감동시켜 평화롭게 만들었습니다.', role='assistant', function_call=None, tool_calls=None))], created=1700138644, model='gpt-3.5-turbo-0613', object='chat.completion', system_fingerprint=None, usage=CompletionUsage(completion_tokens=155, prompt_tokens=74, total_tokens=229))\n"
          ]
        }
      ]
    },
    {
      "cell_type": "code",
      "source": [
        "response.choices[0].message.content"
      ],
      "metadata": {
        "colab": {
          "base_uri": "https://localhost:8080/",
          "height": 72
        },
        "id": "UUT0MHt3KWXq",
        "outputId": "abf9fa0c-6c1c-42d5-9c37-ec43fefae6d9"
      },
      "execution_count": 9,
      "outputs": [
        {
          "output_type": "execute_result",
          "data": {
            "text/plain": [
              "'1. 한 바닷속에 사는 작은 고래가 마을에서 유명한 노래가수가 되기 위해 열심히 연습을 했습니다.\\n\\n2. 그러던 어느 날, 큰 파도와 함께 찾아온 거대한 고래가 작은 고래의 마을을 위협했습니다.\\n\\n3. 작은 고래는 용감하게 일어서서 자신의 노래와 정성으로 거대한 고래를 감동시켜 평화롭게 만들었습니다.'"
            ],
            "application/vnd.google.colaboratory.intrinsic+json": {
              "type": "string"
            }
          },
          "metadata": {},
          "execution_count": 9
        }
      ]
    },
    {
      "cell_type": "code",
      "source": [],
      "metadata": {
        "id": "P6ajr-a3KkO_"
      },
      "execution_count": null,
      "outputs": []
    }
  ]
}