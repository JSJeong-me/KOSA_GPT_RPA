{
  "nbformat": 4,
  "nbformat_minor": 0,
  "metadata": {
    "colab": {
      "provenance": [],
      "authorship_tag": "ABX9TyN8sCsthJQUUufgeCzy35id",
      "include_colab_link": true
    },
    "kernelspec": {
      "name": "python3",
      "display_name": "Python 3"
    },
    "language_info": {
      "name": "python"
    }
  },
  "cells": [
    {
      "cell_type": "markdown",
      "metadata": {
        "id": "view-in-github",
        "colab_type": "text"
      },
      "source": [
        "<a href=\"https://colab.research.google.com/github/JSJeong-me/KOSA_GPT_RPA/blob/main/0-Deterministic_outputs_with_the_seed_parameter.ipynb\" target=\"_parent\"><img src=\"https://colab.research.google.com/assets/colab-badge.svg\" alt=\"Open In Colab\"/></a>"
      ]
    },
    {
      "cell_type": "code",
      "execution_count": null,
      "metadata": {
        "id": "ZmnHYqqTmypG"
      },
      "outputs": [],
      "source": [
        "!pip install openai==0.28"
      ]
    },
    {
      "cell_type": "code",
      "source": [
        "!pip show openai | grep Version"
      ],
      "metadata": {
        "colab": {
          "base_uri": "https://localhost:8080/"
        },
        "id": "H1iVojDEm7Yh",
        "outputId": "b418e766-1070-4919-e7b6-4f95805afedb"
      },
      "execution_count": 2,
      "outputs": [
        {
          "output_type": "stream",
          "name": "stdout",
          "text": [
            "Version: 0.28.0\n"
          ]
        }
      ]
    },
    {
      "cell_type": "code",
      "source": [
        "import openai\n",
        "\n",
        "# Set up the OpenAI API client\n",
        "openai.api_key = \"sk-\""
      ],
      "metadata": {
        "id": "BLZjLaNNnFfI"
      },
      "execution_count": 3,
      "outputs": []
    },
    {
      "cell_type": "code",
      "source": [
        "import asyncio\n",
        "# import openai\n",
        "import pprint\n",
        "import difflib\n",
        "from IPython.display import display, HTML\n",
        "\n",
        "GPT_MODEL = \"gpt-3.5-turbo-1106\""
      ],
      "metadata": {
        "id": "I0ktS_CnnD4t"
      },
      "execution_count": 4,
      "outputs": []
    },
    {
      "cell_type": "code",
      "source": [
        "async def get_chat_response(system_message: str, user_request: str, seed: int = None):\n",
        "    try:\n",
        "        messages = [\n",
        "            {\"role\": \"system\", \"content\": system_message},\n",
        "            {\"role\": \"user\", \"content\": user_request},\n",
        "        ]\n",
        "\n",
        "        response = openai.ChatCompletion.create(\n",
        "            model=GPT_MODEL,\n",
        "            messages=messages,\n",
        "            seed=seed,\n",
        "            max_tokens=200,\n",
        "            temperature=0.7,\n",
        "        )\n",
        "\n",
        "        response_content = response[\"choices\"][0][\"message\"][\"content\"]\n",
        "        system_fingerprint = response[\"system_fingerprint\"]\n",
        "        prompt_tokens = response[\"usage\"][\"prompt_tokens\"]\n",
        "        completion_tokens = (\n",
        "            response[\"usage\"][\"total_tokens\"] - response[\"usage\"][\"prompt_tokens\"]\n",
        "        )\n",
        "\n",
        "        table = f\"\"\"\n",
        "        <table>\n",
        "        <tr><th>Response</th><td>{response_content}</td></tr>\n",
        "        <tr><th>System Fingerprint</th><td>{system_fingerprint}</td></tr>\n",
        "        <tr><th>Number of prompt tokens</th><td>{prompt_tokens}</td></tr>\n",
        "        <tr><th>Number of completion tokens</th><td>{completion_tokens}</td></tr>\n",
        "        </table>\n",
        "        \"\"\"\n",
        "        display(HTML(table))\n",
        "\n",
        "        return response_content\n",
        "    except Exception as e:\n",
        "        print(f\"An error occurred: {e}\")\n",
        "        return None\n",
        "\n",
        "\n",
        "# This function compares two responses and displays the differences in a table.\n",
        "# Deletions are highlighted in red and additions are highlighted in green.\n",
        "# If no differences are found, it prints \"No differences found.\"\n",
        "\n",
        "\n",
        "def compare_responses(previous_response: str, response: str):\n",
        "    d = difflib.Differ()\n",
        "    diff = d.compare(previous_response.splitlines(), response.splitlines())\n",
        "\n",
        "    diff_table = \"<table>\"\n",
        "    diff_exists = False\n",
        "\n",
        "    for line in diff:\n",
        "        if line.startswith(\"- \"):\n",
        "            diff_table += f\"<tr style='color: red;'><td>{line}</td></tr>\"\n",
        "            diff_exists = True\n",
        "        elif line.startswith(\"+ \"):\n",
        "            diff_table += f\"<tr style='color: green;'><td>{line}</td></tr>\"\n",
        "            diff_exists = True\n",
        "        else:\n",
        "            diff_table += f\"<tr><td>{line}</td></tr>\"\n",
        "\n",
        "    diff_table += \"</table>\"\n",
        "\n",
        "    if diff_exists:\n",
        "        display(HTML(diff_table))\n",
        "    else:\n",
        "        print(\"No differences found.\")"
      ],
      "metadata": {
        "id": "37Uh7LxQnpAx"
      },
      "execution_count": 5,
      "outputs": []
    },
    {
      "cell_type": "code",
      "source": [
        "topic = \"a journey to Mars\"\n",
        "system_message = \"You are a helpful assistant that generates short stories.\"\n",
        "user_request = f\"Generate a short story about {topic}.\"\n",
        "\n",
        "previous_response = await get_chat_response(\n",
        "    system_message=system_message, user_request=user_request\n",
        ")\n",
        "\n",
        "response = await get_chat_response(\n",
        "    system_message=system_message, user_request=user_request\n",
        ")\n",
        "\n",
        "# The function compare_responses is then called with the two responses as arguments.\n",
        "# This function will compare the two responses and display the differences in a table.\n",
        "# If no differences are found, it will print \"No differences found.\"\n",
        "compare_responses(previous_response, response)"
      ],
      "metadata": {
        "colab": {
          "base_uri": "https://localhost:8080/",
          "height": 1000
        },
        "id": "X3Hkthssnsom",
        "outputId": "28f53bf6-8af0-44e8-f737-7efacb66d713"
      },
      "execution_count": 6,
      "outputs": [
        {
          "output_type": "display_data",
          "data": {
            "text/plain": [
              "<IPython.core.display.HTML object>"
            ],
            "text/html": [
              "\n",
              "        <table>\n",
              "        <tr><th>Response</th><td>In the year 2050, a group of brave astronauts embarked on a historic journey to Mars. Their mission was to establish a sustainable human settlement on the red planet. The crew consisted of scientists, engineers, and explorers from different countries, all united by their shared passion for space exploration.\n",
              "\n",
              "As their spacecraft, the \"Pathfinder,\" soared through the vast expanse of space, the crew marveled at the breathtaking views of Earth and the stars. They spent months in transit, conducting experiments, training for the challenges ahead, and nurturing a sense of camaraderie that would sustain them during their long mission.\n",
              "\n",
              "Finally, after a grueling journey, the \"Pathfinder\" approached the Martian atmosphere. Tensions ran high as the crew prepared for the dangerous descent. The spacecraft's heat shield glowed red-hot as it plunged through the thin Martian atmosphere, and the crew held their breath as they felt the intense G-forces of re-entry.\n",
              "\n",
              "After a nerve-wracking descent, the \"</td></tr>\n",
              "        <tr><th>System Fingerprint</th><td>fp_eeff13170a</td></tr>\n",
              "        <tr><th>Number of prompt tokens</th><td>31</td></tr>\n",
              "        <tr><th>Number of completion tokens</th><td>200</td></tr>\n",
              "        </table>\n",
              "        "
            ]
          },
          "metadata": {}
        },
        {
          "output_type": "display_data",
          "data": {
            "text/plain": [
              "<IPython.core.display.HTML object>"
            ],
            "text/html": [
              "\n",
              "        <table>\n",
              "        <tr><th>Response</th><td>Once upon a time, in a not-so-distant future, a group of brave astronauts embarked on a thrilling journey to Mars. Their mission was to explore the red planet and search for signs of life. \n",
              "\n",
              "The crew consisted of five intrepid individuals, each with their own unique set of skills and expertise. There was Captain Lee, a seasoned astronaut with years of experience in space exploration. Dr. Patel, a brilliant scientist specializing in astrobiology, was responsible for conducting experiments to detect any traces of microbial life on Mars. Engineer Thompson was in charge of maintaining the spacecraft and ensuring its smooth operation throughout the mission. Pilot Rodriguez, a skilled aviator, was responsible for navigating the spacecraft through the vast expanse of space. And finally, there was Mission Specialist Chen, an expert in geology, whose task was to analyze the Martian terrain and collect samples for further study.\n",
              "\n",
              "As their spacecraft, the \"Pathfinder,\" soared through the cosmos, the crew marveled at the breathtaking views of the stars</td></tr>\n",
              "        <tr><th>System Fingerprint</th><td>fp_eeff13170a</td></tr>\n",
              "        <tr><th>Number of prompt tokens</th><td>31</td></tr>\n",
              "        <tr><th>Number of completion tokens</th><td>200</td></tr>\n",
              "        </table>\n",
              "        "
            ]
          },
          "metadata": {}
        },
        {
          "output_type": "display_data",
          "data": {
            "text/plain": [
              "<IPython.core.display.HTML object>"
            ],
            "text/html": [
              "<table><tr style='color: red;'><td>- In the year 2050, a group of brave astronauts embarked on a historic journey to Mars. Their mission was to establish a sustainable human settlement on the red planet. The crew consisted of scientists, engineers, and explorers from different countries, all united by their shared passion for space exploration.</td></tr><tr style='color: green;'><td>+ Once upon a time, in a not-so-distant future, a group of brave astronauts embarked on a thrilling journey to Mars. Their mission was to explore the red planet and search for signs of life. </td></tr><tr><td>  </td></tr><tr style='color: red;'><td>- As their spacecraft, the \"Pathfinder,\" soared through the vast expanse of space, the crew marveled at the breathtaking views of Earth and the stars. They spent months in transit, conducting experiments, training for the challenges ahead, and nurturing a sense of camaraderie that would sustain them during their long mission.</td></tr><tr style='color: green;'><td>+ The crew consisted of five intrepid individuals, each with their own unique set of skills and expertise. There was Captain Lee, a seasoned astronaut with years of experience in space exploration. Dr. Patel, a brilliant scientist specializing in astrobiology, was responsible for conducting experiments to detect any traces of microbial life on Mars. Engineer Thompson was in charge of maintaining the spacecraft and ensuring its smooth operation throughout the mission. Pilot Rodriguez, a skilled aviator, was responsible for navigating the spacecraft through the vast expanse of space. And finally, there was Mission Specialist Chen, an expert in geology, whose task was to analyze the Martian terrain and collect samples for further study.</td></tr><tr><td>  </td></tr><tr style='color: green;'><td>+ As their spacecraft, the \"Pathfinder,\" soared through the cosmos, the crew marveled at the breathtaking views of the stars</td></tr><tr style='color: red;'><td>- Finally, after a grueling journey, the \"Pathfinder\" approached the Martian atmosphere. Tensions ran high as the crew prepared for the dangerous descent. The spacecraft's heat shield glowed red-hot as it plunged through the thin Martian atmosphere, and the crew held their breath as they felt the intense G-forces of re-entry.</td></tr><tr style='color: red;'><td>- </td></tr><tr style='color: red;'><td>- After a nerve-wracking descent, the \"</td></tr></table>"
            ]
          },
          "metadata": {}
        }
      ]
    },
    {
      "cell_type": "code",
      "source": [
        "SEED = 123\n",
        "response = await get_chat_response(\n",
        "    system_message=system_message, seed=SEED, user_request=user_request\n",
        ")\n",
        "previous_response = response\n",
        "response = await get_chat_response(\n",
        "    system_message=system_message, seed=SEED, user_request=user_request\n",
        ")\n",
        "\n",
        "compare_responses(previous_response, response)"
      ],
      "metadata": {
        "colab": {
          "base_uri": "https://localhost:8080/",
          "height": 1000
        },
        "id": "q4bn9NAQoOrV",
        "outputId": "ec3bec5f-ac37-4de9-81d5-bc02441904ed"
      },
      "execution_count": 7,
      "outputs": [
        {
          "output_type": "display_data",
          "data": {
            "text/plain": [
              "<IPython.core.display.HTML object>"
            ],
            "text/html": [
              "\n",
              "        <table>\n",
              "        <tr><th>Response</th><td>In the not-so-distant future, a team of brave astronauts embarked on a groundbreaking journey to Mars. The spacecraft, named \"Odyssey,\" soared through the vast expanse of space, leaving Earth behind as they ventured toward the mysterious red planet.\n",
              "\n",
              "As the crew members gazed out of their tiny windows, they were awestruck by the beauty of the cosmos. They marveled at the shimmering stars and the glowing swirls of distant galaxies, feeling a profound sense of wonder and humility in the face of such cosmic grandeur.\n",
              "\n",
              "After months of travel, the Odyssey finally reached its destination. The astronauts eagerly prepared for their descent onto the Martian surface, donning their spacesuits and double-checking their equipment. As the spacecraft touched down, they felt a mix of excitement and trepidation, knowing that they were about to set foot on a world that had been the subject of countless dreams and speculations.\n",
              "\n",
              "Stepping out onto the rusty, rocky terrain, the astronauts were immediately struck by</td></tr>\n",
              "        <tr><th>System Fingerprint</th><td>fp_eeff13170a</td></tr>\n",
              "        <tr><th>Number of prompt tokens</th><td>31</td></tr>\n",
              "        <tr><th>Number of completion tokens</th><td>200</td></tr>\n",
              "        </table>\n",
              "        "
            ]
          },
          "metadata": {}
        },
        {
          "output_type": "display_data",
          "data": {
            "text/plain": [
              "<IPython.core.display.HTML object>"
            ],
            "text/html": [
              "\n",
              "        <table>\n",
              "        <tr><th>Response</th><td>In the not-so-distant future, a team of brave astronauts embarked on a groundbreaking journey to Mars. The spacecraft, named \"Odyssey,\" soared through the vast expanse of space, leaving Earth behind as they ventured toward the mysterious red planet.\n",
              "\n",
              "As the crew members gazed out of their windows, they were filled with a sense of awe and wonder at the endless beauty of the cosmos. Each day brought new challenges and discoveries, from navigating through asteroid fields to marveling at the breathtaking sight of distant galaxies.\n",
              "\n",
              "After a long and arduous journey, the \"Odyssey\" finally approached the Martian atmosphere. The crew held their breath as they descended toward the alien landscape, their hearts racing with excitement and anticipation.\n",
              "\n",
              "Upon landing on the dusty surface of Mars, the astronauts marveled at the surreal beauty of their new surroundings. They stepped out onto the red soil, feeling the weight of history on their shoulders as they became the first humans to set foot on another planet.\n",
              "\n",
              "As they explored the Martian</td></tr>\n",
              "        <tr><th>System Fingerprint</th><td>fp_eeff13170a</td></tr>\n",
              "        <tr><th>Number of prompt tokens</th><td>31</td></tr>\n",
              "        <tr><th>Number of completion tokens</th><td>200</td></tr>\n",
              "        </table>\n",
              "        "
            ]
          },
          "metadata": {}
        },
        {
          "output_type": "display_data",
          "data": {
            "text/plain": [
              "<IPython.core.display.HTML object>"
            ],
            "text/html": [
              "<table><tr><td>  In the not-so-distant future, a team of brave astronauts embarked on a groundbreaking journey to Mars. The spacecraft, named \"Odyssey,\" soared through the vast expanse of space, leaving Earth behind as they ventured toward the mysterious red planet.</td></tr><tr><td>  </td></tr><tr style='color: red;'><td>- As the crew members gazed out of their tiny windows, they were awestruck by the beauty of the cosmos. They marveled at the shimmering stars and the glowing swirls of distant galaxies, feeling a profound sense of wonder and humility in the face of such cosmic grandeur.</td></tr><tr style='color: green;'><td>+ As the crew members gazed out of their windows, they were filled with a sense of awe and wonder at the endless beauty of the cosmos. Each day brought new challenges and discoveries, from navigating through asteroid fields to marveling at the breathtaking sight of distant galaxies.</td></tr><tr><td>  </td></tr><tr style='color: red;'><td>- After months of travel, the Odyssey finally reached its destination. The astronauts eagerly prepared for their descent onto the Martian surface, donning their spacesuits and double-checking their equipment. As the spacecraft touched down, they felt a mix of excitement and trepidation, knowing that they were about to set foot on a world that had been the subject of countless dreams and speculations.</td></tr><tr style='color: green;'><td>+ After a long and arduous journey, the \"Odyssey\" finally approached the Martian atmosphere. The crew held their breath as they descended toward the alien landscape, their hearts racing with excitement and anticipation.</td></tr><tr><td>  </td></tr><tr style='color: red;'><td>- Stepping out onto the rusty, rocky terrain, the astronauts were immediately struck by</td></tr><tr style='color: green;'><td>+ Upon landing on the dusty surface of Mars, the astronauts marveled at the surreal beauty of their new surroundings. They stepped out onto the red soil, feeling the weight of history on their shoulders as they became the first humans to set foot on another planet.</td></tr><tr style='color: green;'><td>+ </td></tr><tr style='color: green;'><td>+ As they explored the Martian</td></tr></table>"
            ]
          },
          "metadata": {}
        }
      ]
    }
  ]
}