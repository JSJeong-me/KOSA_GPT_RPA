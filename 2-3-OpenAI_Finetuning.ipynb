{
  "nbformat": 4,
  "nbformat_minor": 0,
  "metadata": {
    "colab": {
      "provenance": [],
      "gpuType": "T4",
      "include_colab_link": true
    },
    "kernelspec": {
      "name": "python3",
      "display_name": "Python 3"
    },
    "language_info": {
      "name": "python"
    },
    "accelerator": "GPU"
  },
  "cells": [
    {
      "cell_type": "markdown",
      "metadata": {
        "id": "view-in-github",
        "colab_type": "text"
      },
      "source": [
        "<a href=\"https://colab.research.google.com/github/JSJeong-me/KOSA_GPT_RPA/blob/main/2-3-OpenAI_Finetuning.ipynb\" target=\"_parent\"><img src=\"https://colab.research.google.com/assets/colab-badge.svg\" alt=\"Open In Colab\"/></a>"
      ]
    },
    {
      "cell_type": "markdown",
      "source": [
        "### https://www.youtube.com/watch?v=WsMB0hOEosI"
      ],
      "metadata": {
        "id": "WuldcW1Sln4r"
      }
    },
    {
      "cell_type": "code",
      "source": [
        "%%capture\n",
        "!pip install openai==0.28\n",
        "!pip install datasets"
      ],
      "metadata": {
        "id": "1judd9krSiFG"
      },
      "execution_count": 1,
      "outputs": []
    },
    {
      "cell_type": "code",
      "source": [
        "!pip show openai | grep Version"
      ],
      "metadata": {
        "id": "aUnOnVQjQ-Zr"
      },
      "execution_count": null,
      "outputs": []
    },
    {
      "cell_type": "markdown",
      "source": [
        "# OpenAI API\n"
      ],
      "metadata": {
        "id": "RfTT7awXHSA1"
      }
    },
    {
      "cell_type": "code",
      "source": [
        "import os\n",
        "import getpass\n",
        "import openai\n",
        "openai.api_key = getpass.getpass(prompt = 'OpenAI API')"
      ],
      "metadata": {
        "colab": {
          "base_uri": "https://localhost:8080/"
        },
        "id": "0EEHtl8ASg4A",
        "outputId": "f9abf548-15fb-43f7-bb23-e970dc6d14a7"
      },
      "execution_count": 3,
      "outputs": [
        {
          "name": "stdout",
          "output_type": "stream",
          "text": [
            "OpenAI API··········\n"
          ]
        }
      ]
    },
    {
      "cell_type": "markdown",
      "source": [
        "# 학습 데이터"
      ],
      "metadata": {
        "id": "LUvwgw7lvLhj"
      }
    },
    {
      "cell_type": "code",
      "source": [
        "\n",
        "dataset = {\n",
        "    \"train\": [\n",
        "      {\n",
        "          \"instruction\": \"어떻게 빛의 속도를 측정하는가?\",\n",
        "          \"output\": \"빛의 속도는 빛의 간 거리를 시간으로 나누어 측정하것지유\"\n",
        "      },\n",
        "      {\n",
        "          \"instruction\": \"르네상스 시대의 대표적인 예술가들은 누구인가?\",\n",
        "          \"output\": \"레오나르도 다 빈치, 미켈란젤로가 있지 않것유\"\n",
        "      },\n",
        "      {\n",
        "          \"instruction\": \"코로나바이러스는 어떻게 전파되는가?\",\n",
        "          \"output\": \"마스크 안쓰면 걸려유\"\n",
        "      },\n",
        "      {\n",
        "          \"instruction\": \"테니스에서 그랜드 슬램은 무엇을 의미하는가?\",\n",
        "          \"output\": \"좋은 의미겠지유\"\n",
        "      },\n",
        "      {\n",
        "          \"instruction\": \"비틀즈의 대표적인 히트곡들은 어떤 것들이 있는가?\",\n",
        "          \"output\": \"예스터데이유\"\n",
        "      },\n",
        "      {\n",
        "          \"instruction\": \"김치를 만들 때 필요한 주요 재료는 무엇인가?\",\n",
        "          \"output\": \"배추랑 고추가루가 필요해유\"\n",
        "      },\n",
        "      {\n",
        "          \"instruction\": \"에스프레소와 아메리카노의 주요 차이점은 무엇인가?\",\n",
        "          \"output\": \"에스프레소에 물타면 그게 아메리카유\"\n",
        "      },\n",
        "      {\n",
        "          \"instruction\": \"기후 변화의 주요 원인 중 하나는 무엇인가?\",\n",
        "          \"output\": \"온실 가스로 지구가 따땃해지는 거유\"\n",
        "      },\n",
        "      {\n",
        "          \"instruction\": \"해양 오염이 해양 생태계에 미치는 영향은 무엇인가?\",\n",
        "          \"output\": \"바다 오염은 생태계를 파괴하고 물의 질도 나빠져유\"\n",
        "      },\n",
        "      {\n",
        "          \"instruction\": \"chatGPT가 인류에 미치는 영향은?\",\n",
        "          \"output\": \"글쎄유 모르겠네유\"\n",
        "      },\n",
        "      {\n",
        "          \"instruction\": \"라면 끓일때 가장 중요한 것은?\",\n",
        "          \"output\": \"물 조절이유\"\n",
        "      },\n",
        "    ]\n",
        "}\n"
      ],
      "metadata": {
        "id": "EsLnKBbJHUr0"
      },
      "execution_count": 4,
      "outputs": []
    },
    {
      "cell_type": "markdown",
      "source": [
        "# 학습데이터 생성"
      ],
      "metadata": {
        "id": "Ex_wxluuGNjt"
      }
    },
    {
      "cell_type": "code",
      "source": [
        "import json\n",
        "\n",
        "list_message = []\n",
        "num_data = len(dataset[\"train\"])  # 데이터셋의 길이를 사용\n",
        "\n",
        "for i in range(num_data):\n",
        "    instruction = dataset[\"train\"][i][\"instruction\"]\n",
        "    output = dataset[\"train\"][i][\"output\"]\n",
        "    print(\"질문:\", instruction)\n",
        "    print(\"답변:\", output)\n",
        "    message = [\n",
        "        {\"role\": \"user\", \"content\": instruction},\n",
        "        {\"role\": \"assistant\", \"content\": output},\n",
        "    ]\n",
        "    list_message.append(message)\n",
        "\n",
        "with open(\"output1.jsonl\", \"w\") as file:\n",
        "    for messages in list_message:\n",
        "        json_line = json.dumps({\"messages\": messages})\n",
        "        file.write(json_line + '\\n')"
      ],
      "metadata": {
        "id": "eTnCCUsslAlH",
        "colab": {
          "base_uri": "https://localhost:8080/"
        },
        "outputId": "e2d503f3-8fef-4852-f88c-e5f32265b52c"
      },
      "execution_count": 5,
      "outputs": [
        {
          "output_type": "stream",
          "name": "stdout",
          "text": [
            "질문: 어떻게 빛의 속도를 측정하는가?\n",
            "답변: 빛의 속도는 빛의 간 거리를 시간으로 나누어 측정하것지유\n",
            "질문: 르네상스 시대의 대표적인 예술가들은 누구인가?\n",
            "답변: 레오나르도 다 빈치, 미켈란젤로가 있지 않것유\n",
            "질문: 코로나바이러스는 어떻게 전파되는가?\n",
            "답변: 마스크 안쓰면 걸려유\n",
            "질문: 테니스에서 그랜드 슬램은 무엇을 의미하는가?\n",
            "답변: 좋은 의미겠지유\n",
            "질문: 비틀즈의 대표적인 히트곡들은 어떤 것들이 있는가?\n",
            "답변: 예스터데이유\n",
            "질문: 김치를 만들 때 필요한 주요 재료는 무엇인가?\n",
            "답변: 배추랑 고추가루가 필요해유\n",
            "질문: 에스프레소와 아메리카노의 주요 차이점은 무엇인가?\n",
            "답변: 에스프레소에 물타면 그게 아메리카유\n",
            "질문: 기후 변화의 주요 원인 중 하나는 무엇인가?\n",
            "답변: 온실 가스로 지구가 따땃해지는 거유\n",
            "질문: 해양 오염이 해양 생태계에 미치는 영향은 무엇인가?\n",
            "답변: 바다 오염은 생태계를 파괴하고 물의 질도 나빠져유\n",
            "질문: chatGPT가 인류에 미치는 영향은?\n",
            "답변: 글쎄유 모르겠네유\n",
            "질문: 라면 끓일때 가장 중요한 것은?\n",
            "답변: 물 조절이유\n"
          ]
        }
      ]
    },
    {
      "cell_type": "markdown",
      "source": [
        "# jsonl파일 업로드"
      ],
      "metadata": {
        "id": "n9JhMeALJlAU"
      }
    },
    {
      "cell_type": "code",
      "source": [
        "upload_file = openai.File.create(\n",
        "  file=open(\"output1.jsonl\", \"rb\"),\n",
        "  purpose='fine-tune'\n",
        ")"
      ],
      "metadata": {
        "id": "TX6gK0QnKhpH",
        "outputId": "e58f1d4a-b0c8-4621-8602-619623d92b19",
        "colab": {
          "base_uri": "https://localhost:8080/",
          "height": 558
        }
      },
      "execution_count": 6,
      "outputs": [
        {
          "output_type": "error",
          "ename": "APIRemovedInV1",
          "evalue": "ignored",
          "traceback": [
            "\u001b[0;31m---------------------------------------------------------------------------\u001b[0m",
            "\u001b[0;31mAPIRemovedInV1\u001b[0m                            Traceback (most recent call last)",
            "\u001b[0;32m<ipython-input-6-ba6c46d3d7b6>\u001b[0m in \u001b[0;36m<cell line: 1>\u001b[0;34m()\u001b[0m\n\u001b[0;32m----> 1\u001b[0;31m upload_file = openai.File.create(\n\u001b[0m\u001b[1;32m      2\u001b[0m   \u001b[0mfile\u001b[0m\u001b[0;34m=\u001b[0m\u001b[0mopen\u001b[0m\u001b[0;34m(\u001b[0m\u001b[0;34m\"output1.jsonl\"\u001b[0m\u001b[0;34m,\u001b[0m \u001b[0;34m\"rb\"\u001b[0m\u001b[0;34m)\u001b[0m\u001b[0;34m,\u001b[0m\u001b[0;34m\u001b[0m\u001b[0;34m\u001b[0m\u001b[0m\n\u001b[1;32m      3\u001b[0m   \u001b[0mpurpose\u001b[0m\u001b[0;34m=\u001b[0m\u001b[0;34m'fine-tune'\u001b[0m\u001b[0;34m\u001b[0m\u001b[0;34m\u001b[0m\u001b[0m\n\u001b[1;32m      4\u001b[0m )\n",
            "\u001b[0;32m/usr/local/lib/python3.10/dist-packages/openai/_utils/_proxy.py\u001b[0m in \u001b[0;36m__getattr__\u001b[0;34m(self, attr)\u001b[0m\n\u001b[1;32m     20\u001b[0m \u001b[0;34m\u001b[0m\u001b[0m\n\u001b[1;32m     21\u001b[0m     \u001b[0;32mdef\u001b[0m \u001b[0m__getattr__\u001b[0m\u001b[0;34m(\u001b[0m\u001b[0mself\u001b[0m\u001b[0;34m,\u001b[0m \u001b[0mattr\u001b[0m\u001b[0;34m:\u001b[0m \u001b[0mstr\u001b[0m\u001b[0;34m)\u001b[0m \u001b[0;34m->\u001b[0m \u001b[0mobject\u001b[0m\u001b[0;34m:\u001b[0m\u001b[0;34m\u001b[0m\u001b[0;34m\u001b[0m\u001b[0m\n\u001b[0;32m---> 22\u001b[0;31m         \u001b[0;32mreturn\u001b[0m \u001b[0mgetattr\u001b[0m\u001b[0;34m(\u001b[0m\u001b[0mself\u001b[0m\u001b[0;34m.\u001b[0m\u001b[0m__get_proxied__\u001b[0m\u001b[0;34m(\u001b[0m\u001b[0;34m)\u001b[0m\u001b[0;34m,\u001b[0m \u001b[0mattr\u001b[0m\u001b[0;34m)\u001b[0m\u001b[0;34m\u001b[0m\u001b[0;34m\u001b[0m\u001b[0m\n\u001b[0m\u001b[1;32m     23\u001b[0m \u001b[0;34m\u001b[0m\u001b[0m\n\u001b[1;32m     24\u001b[0m     \u001b[0;34m@\u001b[0m\u001b[0moverride\u001b[0m\u001b[0;34m\u001b[0m\u001b[0;34m\u001b[0m\u001b[0m\n",
            "\u001b[0;32m/usr/local/lib/python3.10/dist-packages/openai/_utils/_proxy.py\u001b[0m in \u001b[0;36m__get_proxied__\u001b[0;34m(self)\u001b[0m\n\u001b[1;32m     41\u001b[0m     \u001b[0;32mdef\u001b[0m \u001b[0m__get_proxied__\u001b[0m\u001b[0;34m(\u001b[0m\u001b[0mself\u001b[0m\u001b[0;34m)\u001b[0m \u001b[0;34m->\u001b[0m \u001b[0mT\u001b[0m\u001b[0;34m:\u001b[0m\u001b[0;34m\u001b[0m\u001b[0;34m\u001b[0m\u001b[0m\n\u001b[1;32m     42\u001b[0m         \u001b[0;32mif\u001b[0m \u001b[0;32mnot\u001b[0m \u001b[0mself\u001b[0m\u001b[0;34m.\u001b[0m\u001b[0mshould_cache\u001b[0m\u001b[0;34m:\u001b[0m\u001b[0;34m\u001b[0m\u001b[0;34m\u001b[0m\u001b[0m\n\u001b[0;32m---> 43\u001b[0;31m             \u001b[0;32mreturn\u001b[0m \u001b[0mself\u001b[0m\u001b[0;34m.\u001b[0m\u001b[0m__load__\u001b[0m\u001b[0;34m(\u001b[0m\u001b[0;34m)\u001b[0m\u001b[0;34m\u001b[0m\u001b[0;34m\u001b[0m\u001b[0m\n\u001b[0m\u001b[1;32m     44\u001b[0m \u001b[0;34m\u001b[0m\u001b[0m\n\u001b[1;32m     45\u001b[0m         \u001b[0mproxied\u001b[0m \u001b[0;34m=\u001b[0m \u001b[0mself\u001b[0m\u001b[0;34m.\u001b[0m\u001b[0m__proxied\u001b[0m\u001b[0;34m\u001b[0m\u001b[0;34m\u001b[0m\u001b[0m\n",
            "\u001b[0;32m/usr/local/lib/python3.10/dist-packages/openai/lib/_old_api.py\u001b[0m in \u001b[0;36m__load__\u001b[0;34m(self)\u001b[0m\n\u001b[1;32m     31\u001b[0m     \u001b[0;34m@\u001b[0m\u001b[0moverride\u001b[0m\u001b[0;34m\u001b[0m\u001b[0;34m\u001b[0m\u001b[0m\n\u001b[1;32m     32\u001b[0m     \u001b[0;32mdef\u001b[0m \u001b[0m__load__\u001b[0m\u001b[0;34m(\u001b[0m\u001b[0mself\u001b[0m\u001b[0;34m)\u001b[0m \u001b[0;34m->\u001b[0m \u001b[0;32mNone\u001b[0m\u001b[0;34m:\u001b[0m\u001b[0;34m\u001b[0m\u001b[0;34m\u001b[0m\u001b[0m\n\u001b[0;32m---> 33\u001b[0;31m         \u001b[0;32mraise\u001b[0m \u001b[0mAPIRemovedInV1\u001b[0m\u001b[0;34m(\u001b[0m\u001b[0msymbol\u001b[0m\u001b[0;34m=\u001b[0m\u001b[0mself\u001b[0m\u001b[0;34m.\u001b[0m\u001b[0m_symbol\u001b[0m\u001b[0;34m)\u001b[0m\u001b[0;34m\u001b[0m\u001b[0;34m\u001b[0m\u001b[0m\n\u001b[0m\u001b[1;32m     34\u001b[0m \u001b[0;34m\u001b[0m\u001b[0m\n\u001b[1;32m     35\u001b[0m \u001b[0;34m\u001b[0m\u001b[0m\n",
            "\u001b[0;31mAPIRemovedInV1\u001b[0m: \n\nYou tried to access openai.File, but this is no longer supported in openai>=1.0.0 - see the README at https://github.com/openai/openai-python for the API.\n\nYou can run `openai migrate` to automatically upgrade your codebase to use the 1.0.0 interface. \n\nAlternatively, you can pin your installation to the old version, e.g. `pip install openai==0.28`\n\nA detailed migration guide is available here: https://github.com/openai/openai-python/discussions/742\n"
          ]
        }
      ]
    },
    {
      "cell_type": "markdown",
      "source": [
        "# 모델 학습"
      ],
      "metadata": {
        "id": "QviKVXnOGD6m"
      }
    },
    {
      "cell_type": "code",
      "source": [
        "start_train = openai.FineTuningJob.create(training_file=upload_file[\"id\"],model=\"gpt-3.5-turbo\")"
      ],
      "metadata": {
        "id": "zHoOsgszRxBX"
      },
      "execution_count": null,
      "outputs": []
    },
    {
      "cell_type": "code",
      "source": [
        "# upload_file의 상태 확인\n",
        "upload_file = openai.File.retrieve(\"file-fB1o6kyzXEzJZkxnVLJC5FHH\")\n",
        "print(upload_file)"
      ],
      "metadata": {
        "id": "AhmYmO-2x1-V"
      },
      "execution_count": null,
      "outputs": []
    },
    {
      "cell_type": "code",
      "source": [
        "start_train = openai.FineTuningJob.create(\n",
        "    training_file=\"file-fB1o6kyzXEzJZkxnVLJC5FHH\",\n",
        "    model=\"gpt-3.5-turbo\"\n",
        ")"
      ],
      "metadata": {
        "id": "pKKZcJlwynto"
      },
      "execution_count": null,
      "outputs": []
    },
    {
      "cell_type": "code",
      "source": [
        "# Fine-tuning 작업 상태 확인\n",
        "status = openai.FineTuningJob.list(limit=10)\n",
        "status[\"data\"][0]"
      ],
      "metadata": {
        "id": "YD_wWa56JioG"
      },
      "execution_count": null,
      "outputs": []
    },
    {
      "cell_type": "code",
      "source": [
        "# 모델 이름 얻기\n",
        "fine_tuned_model = status[\"data\"][0][\"fine_tuned_model\"]\n",
        "print(fine_tuned_model)"
      ],
      "metadata": {
        "id": "h5q_gKNmzEdG"
      },
      "execution_count": null,
      "outputs": []
    },
    {
      "cell_type": "code",
      "source": [
        "completion = openai.ChatCompletion.create(\n",
        "  model=status[\"data\"][0][\"fine_tuned_model\"],\n",
        "  messages=[\n",
        "    {\"role\": \"user\", \"content\": \"Django의 ORM에 대해 간략하게 설명해주세요\"}\n",
        "  ]\n",
        ")"
      ],
      "metadata": {
        "id": "2jefHfZhGGSt"
      },
      "execution_count": null,
      "outputs": []
    },
    {
      "cell_type": "code",
      "source": [
        "print(completion.choices[0].message[\"content\"])"
      ],
      "metadata": {
        "id": "FFuRGtjyJhbr"
      },
      "execution_count": null,
      "outputs": []
    },
    {
      "cell_type": "code",
      "source": [],
      "metadata": {
        "id": "YVeirlXkGH_P"
      },
      "execution_count": null,
      "outputs": []
    },
    {
      "cell_type": "code",
      "source": [],
      "metadata": {
        "id": "T5XEQciCGKyE"
      },
      "execution_count": null,
      "outputs": []
    },
    {
      "cell_type": "code",
      "source": [],
      "metadata": {
        "id": "rtKBQErEGK2T"
      },
      "execution_count": null,
      "outputs": []
    },
    {
      "cell_type": "code",
      "source": [],
      "metadata": {
        "id": "F1srrPcXGICS"
      },
      "execution_count": null,
      "outputs": []
    }
  ]
}