{
  "nbformat": 4,
  "nbformat_minor": 0,
  "metadata": {
    "colab": {
      "provenance": [],
      "gpuType": "T4",
      "include_colab_link": true
    },
    "kernelspec": {
      "name": "python3",
      "display_name": "Python 3"
    },
    "language_info": {
      "name": "python"
    },
    "accelerator": "GPU"
  },
  "cells": [
    {
      "cell_type": "markdown",
      "metadata": {
        "id": "view-in-github",
        "colab_type": "text"
      },
      "source": [
        "<a href=\"https://colab.research.google.com/github/JSJeong-me/KOSA_GPT_RPA/blob/main/2-3-OpenAI_Finetuning.ipynb\" target=\"_parent\"><img src=\"https://colab.research.google.com/assets/colab-badge.svg\" alt=\"Open In Colab\"/></a>"
      ]
    },
    {
      "cell_type": "markdown",
      "source": [
        "### https://www.youtube.com/watch?v=WsMB0hOEosI"
      ],
      "metadata": {
        "id": "WuldcW1Sln4r"
      }
    },
    {
      "cell_type": "code",
      "source": [
        "%%capture\n",
        "!pip install openai==0.28\n",
        "!pip install datasets"
      ],
      "metadata": {
        "id": "1judd9krSiFG"
      },
      "execution_count": 1,
      "outputs": []
    },
    {
      "cell_type": "code",
      "source": [
        "!pip show openai | grep Version"
      ],
      "metadata": {
        "id": "aUnOnVQjQ-Zr",
        "outputId": "4a544f80-24d1-4f77-af37-cc64bad4eb6e",
        "colab": {
          "base_uri": "https://localhost:8080/"
        }
      },
      "execution_count": 2,
      "outputs": [
        {
          "output_type": "stream",
          "name": "stdout",
          "text": [
            "Version: 0.28.0\n"
          ]
        }
      ]
    },
    {
      "cell_type": "markdown",
      "source": [
        "# OpenAI API\n"
      ],
      "metadata": {
        "id": "RfTT7awXHSA1"
      }
    },
    {
      "cell_type": "code",
      "source": [
        "import os\n",
        "import getpass\n",
        "import openai\n",
        "openai.api_key = getpass.getpass(prompt = 'OpenAI API')"
      ],
      "metadata": {
        "colab": {
          "base_uri": "https://localhost:8080/"
        },
        "id": "0EEHtl8ASg4A",
        "outputId": "5b672d04-e952-461b-93b1-e3e51c03ec75"
      },
      "execution_count": 1,
      "outputs": [
        {
          "name": "stdout",
          "output_type": "stream",
          "text": [
            "OpenAI API··········\n"
          ]
        }
      ]
    },
    {
      "cell_type": "markdown",
      "source": [
        "# 학습 데이터"
      ],
      "metadata": {
        "id": "LUvwgw7lvLhj"
      }
    },
    {
      "cell_type": "code",
      "source": [
        "\n",
        "dataset = {\n",
        "    \"train\": [\n",
        "      {\n",
        "          \"instruction\": \"어떻게 빛의 속도를 측정하는가?\",\n",
        "          \"output\": \"빛의 속도는 빛의 간 거리를 시간으로 나누어 측정하것지유\"\n",
        "      },\n",
        "      {\n",
        "          \"instruction\": \"르네상스 시대의 대표적인 예술가들은 누구인가?\",\n",
        "          \"output\": \"레오나르도 다 빈치, 미켈란젤로가 있지 않것유\"\n",
        "      },\n",
        "      {\n",
        "          \"instruction\": \"코로나바이러스는 어떻게 전파되는가?\",\n",
        "          \"output\": \"마스크 안쓰면 걸려유\"\n",
        "      },\n",
        "      {\n",
        "          \"instruction\": \"테니스에서 그랜드 슬램은 무엇을 의미하는가?\",\n",
        "          \"output\": \"좋은 의미겠지유\"\n",
        "      },\n",
        "      {\n",
        "          \"instruction\": \"비틀즈의 대표적인 히트곡들은 어떤 것들이 있는가?\",\n",
        "          \"output\": \"예스터데이유\"\n",
        "      },\n",
        "      {\n",
        "          \"instruction\": \"김치를 만들 때 필요한 주요 재료는 무엇인가?\",\n",
        "          \"output\": \"배추랑 고추가루가 필요해유\"\n",
        "      },\n",
        "      {\n",
        "          \"instruction\": \"에스프레소와 아메리카노의 주요 차이점은 무엇인가?\",\n",
        "          \"output\": \"에스프레소에 물타면 그게 아메리카유\"\n",
        "      },\n",
        "      {\n",
        "          \"instruction\": \"기후 변화의 주요 원인 중 하나는 무엇인가?\",\n",
        "          \"output\": \"온실 가스로 지구가 따땃해지는 거유\"\n",
        "      },\n",
        "      {\n",
        "          \"instruction\": \"해양 오염이 해양 생태계에 미치는 영향은 무엇인가?\",\n",
        "          \"output\": \"바다 오염은 생태계를 파괴하고 물의 질도 나빠져유\"\n",
        "      },\n",
        "      {\n",
        "          \"instruction\": \"chatGPT가 인류에 미치는 영향은?\",\n",
        "          \"output\": \"글쎄유 모르겠네유\"\n",
        "      },\n",
        "      {\n",
        "          \"instruction\": \"라면 끓일때 가장 중요한 것은?\",\n",
        "          \"output\": \"물 조절이유\"\n",
        "      },\n",
        "      {\n",
        "          \"instruction\": \"오늘 날씨는?\",\n",
        "          \"output\": \"흐리고 비가 옵니다\"\n",
        "      },\n",
        "      {\n",
        "          \"instruction\": \"현재 기온은?\",\n",
        "          \"output\": \"영상 5도 입니다\"\n",
        "      },\n",
        "    ]\n",
        "}\n"
      ],
      "metadata": {
        "id": "EsLnKBbJHUr0"
      },
      "execution_count": 2,
      "outputs": []
    },
    {
      "cell_type": "markdown",
      "source": [
        "# 학습데이터 생성"
      ],
      "metadata": {
        "id": "Ex_wxluuGNjt"
      }
    },
    {
      "cell_type": "code",
      "source": [
        "import json\n",
        "\n",
        "list_message = []\n",
        "num_data = len(dataset[\"train\"])  # 데이터셋의 길이를 사용\n",
        "\n",
        "for i in range(num_data):\n",
        "    instruction = dataset[\"train\"][i][\"instruction\"]\n",
        "    output = dataset[\"train\"][i][\"output\"]\n",
        "    print(\"질문:\", instruction)\n",
        "    print(\"답변:\", output)\n",
        "    message = [\n",
        "        {\"role\": \"user\", \"content\": instruction},\n",
        "        {\"role\": \"assistant\", \"content\": output},\n",
        "    ]\n",
        "    list_message.append(message)\n",
        "\n",
        "with open(\"output1.jsonl\", \"w\") as file:\n",
        "    for messages in list_message:\n",
        "        json_line = json.dumps({\"messages\": messages})\n",
        "        file.write(json_line + '\\n')"
      ],
      "metadata": {
        "id": "eTnCCUsslAlH"
      },
      "execution_count": null,
      "outputs": []
    },
    {
      "cell_type": "markdown",
      "source": [
        "# jsonl파일 업로드"
      ],
      "metadata": {
        "id": "n9JhMeALJlAU"
      }
    },
    {
      "cell_type": "code",
      "source": [
        "upload_file = openai.File.create(\n",
        "  file=open(\"output1.jsonl\", \"rb\"),\n",
        "  purpose='fine-tune'\n",
        ")"
      ],
      "metadata": {
        "id": "TX6gK0QnKhpH"
      },
      "execution_count": 4,
      "outputs": []
    },
    {
      "cell_type": "markdown",
      "source": [
        "# 모델 학습"
      ],
      "metadata": {
        "id": "QviKVXnOGD6m"
      }
    },
    {
      "cell_type": "markdown",
      "source": [
        "### https://platform.openai.com/finetune"
      ],
      "metadata": {
        "id": "LIHv-h2SWC6K"
      }
    },
    {
      "cell_type": "code",
      "source": [
        "import openai\n",
        "\n",
        "openai.api_key = 'sk-'  # Replace with your actual API key\n",
        "\n",
        "try:\n",
        "    upload_file = openai.File.retrieve(\"file-V84sYdKqVF3suuO6yCaKdXFS\")\n",
        "    print(upload_file)\n",
        "except openai.error.InvalidRequestError as e:\n",
        "    print(\"Error occurred:\", e)\n"
      ],
      "metadata": {
        "id": "gM5R4_zwViST",
        "outputId": "2c06846e-cc24-4366-deda-eb4b7fac0146",
        "colab": {
          "base_uri": "https://localhost:8080/"
        }
      },
      "execution_count": 5,
      "outputs": [
        {
          "output_type": "stream",
          "name": "stdout",
          "text": [
            "{\n",
            "  \"object\": \"file\",\n",
            "  \"id\": \"file-V84sYdKqVF3suuO6yCaKdXFS\",\n",
            "  \"purpose\": \"fine-tune\",\n",
            "  \"filename\": \"file\",\n",
            "  \"bytes\": 3355,\n",
            "  \"created_at\": 1700463952,\n",
            "  \"status\": \"processed\",\n",
            "  \"status_details\": null\n",
            "}\n"
          ]
        }
      ]
    },
    {
      "cell_type": "code",
      "source": [
        "# client = openai()\n",
        "\n",
        "openai.FineTuningJob.create(\n",
        "  training_file=\"file-V84sYdKqVF3suuO6yCaKdXFS\",\n",
        "  model=\"gpt-3.5-turbo\",\n",
        "  hyperparameters={\n",
        "    \"n_epochs\":15\n",
        "  }\n",
        ")"
      ],
      "metadata": {
        "id": "0bBE9FMGgkS0"
      },
      "execution_count": null,
      "outputs": []
    },
    {
      "cell_type": "code",
      "source": [
        "# start_train = openai.FineTuningJob.create(training_file=upload_file[\"id\"],model=\"gpt-3.5-turbo\")"
      ],
      "metadata": {
        "id": "zHoOsgszRxBX"
      },
      "execution_count": 8,
      "outputs": []
    },
    {
      "cell_type": "code",
      "source": [
        "# Fine-tuning 작업 상태 확인\n",
        "status = openai.FineTuningJob.list(limit=10)\n",
        "status[\"data\"][0]"
      ],
      "metadata": {
        "id": "YD_wWa56JioG"
      },
      "execution_count": null,
      "outputs": []
    },
    {
      "cell_type": "code",
      "source": [
        "# 모델 이름 얻기\n",
        "fine_tuned_model = status[\"data\"][0][\"fine_tuned_model\"]\n",
        "print(fine_tuned_model)"
      ],
      "metadata": {
        "id": "h5q_gKNmzEdG",
        "outputId": "b11a7898-d503-486e-ef1b-2e52ff68608b",
        "colab": {
          "base_uri": "https://localhost:8080/"
        }
      },
      "execution_count": 12,
      "outputs": [
        {
          "output_type": "stream",
          "name": "stdout",
          "text": [
            "ft:gpt-3.5-turbo-0613:shinkisa::8MsqptEX\n"
          ]
        }
      ]
    },
    {
      "cell_type": "code",
      "source": [
        "completion = openai.ChatCompletion.create(\n",
        "  model=status[\"data\"][0][\"fine_tuned_model\"],\n",
        "  messages=[\n",
        "    {\"role\": \"user\", \"content\": \"오늘 날씨는?\"}\n",
        "  ]\n",
        ")"
      ],
      "metadata": {
        "id": "jAyGAY5ff0GW"
      },
      "execution_count": 21,
      "outputs": []
    },
    {
      "cell_type": "code",
      "source": [
        "completion = openai.ChatCompletion.create(\n",
        "  model=status[\"data\"][0][\"fine_tuned_model\"],\n",
        "  messages=[\n",
        "    {\"role\": \"user\", \"content\": \"현재 기온은?\"}\n",
        "  ]\n",
        ")"
      ],
      "metadata": {
        "id": "2jefHfZhGGSt"
      },
      "execution_count": 23,
      "outputs": []
    },
    {
      "cell_type": "code",
      "source": [
        "print(completion.choices[0].message[\"content\"])"
      ],
      "metadata": {
        "id": "FFuRGtjyJhbr",
        "outputId": "cdc99ff9-7d70-40b1-fedb-7da171a6577a",
        "colab": {
          "base_uri": "https://localhost:8080/"
        }
      },
      "execution_count": 24,
      "outputs": [
        {
          "output_type": "stream",
          "name": "stdout",
          "text": [
            "영상 5도 입니다\n"
          ]
        }
      ]
    },
    {
      "cell_type": "code",
      "source": [
        "completion = openai.ChatCompletion.create(\n",
        "  model=status[\"data\"][1][\"fine_tuned_model\"],\n",
        "  messages=[\n",
        "    {\"role\": \"user\", \"content\": \"코로나바이러스는 어떻게 전파되는가?\"}\n",
        "  ]\n",
        ")"
      ],
      "metadata": {
        "id": "YVeirlXkGH_P"
      },
      "execution_count": 17,
      "outputs": []
    },
    {
      "cell_type": "code",
      "source": [
        "completion = openai.ChatCompletion.create(\n",
        "  model=status[\"data\"][1][\"fine_tuned_model\"],\n",
        "  messages=[\n",
        "    {\"role\": \"user\", \"content\": \"라면 끓일때 가장 중요한 것은?\"}\n",
        "  ]\n",
        ")"
      ],
      "metadata": {
        "id": "T5XEQciCGKyE"
      },
      "execution_count": 19,
      "outputs": []
    },
    {
      "cell_type": "code",
      "source": [],
      "metadata": {
        "id": "rtKBQErEGK2T"
      },
      "execution_count": null,
      "outputs": []
    },
    {
      "cell_type": "code",
      "source": [],
      "metadata": {
        "id": "F1srrPcXGICS"
      },
      "execution_count": null,
      "outputs": []
    }
  ]
}