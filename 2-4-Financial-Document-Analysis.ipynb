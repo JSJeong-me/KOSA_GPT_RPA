{
  "nbformat": 4,
  "nbformat_minor": 0,
  "metadata": {
    "colab": {
      "provenance": [],
      "gpuType": "T4",
      "authorship_tag": "ABX9TyPKOzFC3hOmaJ5HEGabHdDf",
      "include_colab_link": true
    },
    "kernelspec": {
      "name": "python3",
      "display_name": "Python 3"
    },
    "language_info": {
      "name": "python"
    },
    "accelerator": "GPU"
  },
  "cells": [
    {
      "cell_type": "markdown",
      "metadata": {
        "id": "view-in-github",
        "colab_type": "text"
      },
      "source": [
        "<a href=\"https://colab.research.google.com/github/JSJeong-me/KOSA_GPT_RPA/blob/main/2-4-Financial-Document-Analysis.ipynb\" target=\"_parent\"><img src=\"https://colab.research.google.com/assets/colab-badge.svg\" alt=\"Open In Colab\"/></a>"
      ]
    },
    {
      "cell_type": "code",
      "execution_count": null,
      "metadata": {
        "id": "SIqgnJSozSLO"
      },
      "outputs": [],
      "source": [
        "!pip install --upgrade openai"
      ]
    },
    {
      "cell_type": "code",
      "source": [
        "!pip install llama-index pypdf"
      ],
      "metadata": {
        "id": "75LSbSXRzxVL"
      },
      "execution_count": null,
      "outputs": []
    },
    {
      "cell_type": "code",
      "source": [
        "!pip install langchain"
      ],
      "metadata": {
        "id": "Y-u_SbPEb_oJ"
      },
      "execution_count": null,
      "outputs": []
    },
    {
      "cell_type": "code",
      "source": [
        "!pip show openai | grep Version"
      ],
      "metadata": {
        "colab": {
          "base_uri": "https://localhost:8080/"
        },
        "id": "6y1DANFG0tJi",
        "outputId": "69d53200-71fd-4e3d-df5a-e52e86f4459c"
      },
      "execution_count": null,
      "outputs": [
        {
          "output_type": "stream",
          "name": "stdout",
          "text": [
            "Version: 1.3.0\n"
          ]
        }
      ]
    },
    {
      "cell_type": "code",
      "source": [
        "import openai\n",
        "\n",
        "# Set up the OpenAI API client\n",
        "openai.api_key = \"sk-\""
      ],
      "metadata": {
        "id": "Ats3p6dWcuoA"
      },
      "execution_count": null,
      "outputs": []
    },
    {
      "cell_type": "code",
      "source": [
        "from langchain import OpenAI\n",
        "\n",
        "from llama_index import SimpleDirectoryReader, ServiceContext, VectorStoreIndex\n",
        "from llama_index import set_global_service_context\n",
        "from llama_index.response.pprint_utils import pprint_response\n",
        "from llama_index.tools import QueryEngineTool, ToolMetadata\n",
        "from llama_index.query_engine import SubQuestionQueryEngine"
      ],
      "metadata": {
        "id": "fszJw-ce0xj1"
      },
      "execution_count": null,
      "outputs": []
    },
    {
      "cell_type": "code",
      "source": [
        "# llm = OpenAI(temperature=0, model_name=\"text-davinci-003\", max_tokens=-1)\n",
        "llm = OpenAI(temperature=0, model_name=\"text-davinci-003\", max_tokens=-1, openai_api_key=\"sk-\")\n"
      ],
      "metadata": {
        "id": "rnjJsiDP07-z"
      },
      "execution_count": null,
      "outputs": []
    },
    {
      "cell_type": "code",
      "source": [
        "service_context = ServiceContext.from_defaults(llm=llm)\n",
        "set_global_service_context(service_context=service_context)"
      ],
      "metadata": {
        "id": "kjklIz1E4T7G"
      },
      "execution_count": null,
      "outputs": []
    },
    {
      "cell_type": "code",
      "source": [
        "ECOPRO_docs = SimpleDirectoryReader(input_files=[\"S-ECOPRO-20230814.pdf\"]).load_data()\n",
        "INTERROJ_docs = SimpleDirectoryReader(input_files=[\"S-INTERROJO-20230814.pdf\"]).load_data()"
      ],
      "metadata": {
        "id": "p6Grt6eX5WB_"
      },
      "execution_count": null,
      "outputs": []
    },
    {
      "cell_type": "code",
      "source": [
        "print(f'Loaded ECOPRO Dart 사업보고서 with {len(ECOPRO_docs)} pages')\n",
        "print(f'Loaded INTERROJ Dart 사업보고서 with {len(INTERROJ_docs)} pages')"
      ],
      "metadata": {
        "colab": {
          "base_uri": "https://localhost:8080/"
        },
        "id": "amdx_uFq5hwo",
        "outputId": "3f34446f-a5b1-436e-8bcd-3bbe959cffa6"
      },
      "execution_count": null,
      "outputs": [
        {
          "output_type": "stream",
          "name": "stdout",
          "text": [
            "Loaded ECOPRO Dart 사업보고서 with 19 pages\n",
            "Loaded INTERROJ Dart 사업보고서 with 20 pages\n"
          ]
        }
      ]
    },
    {
      "cell_type": "code",
      "source": [
        "ECOPRO_index = VectorStoreIndex.from_documents(ECOPRO_docs)\n",
        "INTERROJr_index = VectorStoreIndex.from_documents(INTERROJ_docs)"
      ],
      "metadata": {
        "id": "BQtN5-Ql5mtu"
      },
      "execution_count": null,
      "outputs": []
    },
    {
      "cell_type": "code",
      "source": [
        "ECOPRO_engine = ECOPRO_index.as_query_engine(similarity_top_k=3)"
      ],
      "metadata": {
        "id": "VDpLB59j5q06"
      },
      "execution_count": null,
      "outputs": []
    },
    {
      "cell_type": "code",
      "source": [
        "INTERROJ_engine = INTERROJr_index.as_query_engine(similarity_top_k=3)"
      ],
      "metadata": {
        "id": "O6JRf9ja5snE"
      },
      "execution_count": null,
      "outputs": []
    },
    {
      "cell_type": "code",
      "source": [
        "response = await ECOPRO_engine.aquery('ECOPRO의 주업종은?')"
      ],
      "metadata": {
        "id": "MQQYoSQ45vnl"
      },
      "execution_count": null,
      "outputs": []
    },
    {
      "cell_type": "code",
      "source": [
        "response = await ECOPRO_engine.aquery('ECOPRO business summary')"
      ],
      "metadata": {
        "id": "wOMMQxFCf2-j"
      },
      "execution_count": null,
      "outputs": []
    },
    {
      "cell_type": "code",
      "source": [
        "print(response)"
      ],
      "metadata": {
        "colab": {
          "base_uri": "https://localhost:8080/"
        },
        "id": "flqikfB38CJC",
        "outputId": "4581fa32-b98f-4add-8b8b-030bebcacd16"
      },
      "execution_count": null,
      "outputs": [
        {
          "output_type": "stream",
          "name": "stdout",
          "text": [
            " ECOPRO Co., Ltd. is a company established in 1998 under the name Korea Zeolite. In 2001, the company changed its name to ECOPRO and was listed on the KOSDAQ in 2007. The company is involved in environmental projects such as reducing fine dust and greenhouse gases, as well as producing high nickel electrodes for secondary batteries. In 2016, the company divided its secondary battery electrode manufacturing business into a subsidiary, ECOPROBIM, and in 2021, the company divided its environmental business into a subsidiary, ECOPROAHN. The company's main businesses include investing in and providing financial support to its subsidiaries, such as ECOPROAHN for environmental projects, ECOPROBIM for battery material projects, ECOPROIM, ECOPROMETALS, ECOPROAP, and ECOPROCNG.\n"
          ]
        }
      ]
    },
    {
      "cell_type": "code",
      "source": [
        "response = await INTERROJ_engine.aquery('What is the summary of company in 2021?')"
      ],
      "metadata": {
        "id": "1K4Rix128tSO"
      },
      "execution_count": null,
      "outputs": []
    },
    {
      "cell_type": "code",
      "source": [
        "print(response)"
      ],
      "metadata": {
        "colab": {
          "base_uri": "https://localhost:8080/"
        },
        "id": "9PgFbEsb89qA",
        "outputId": "7d1aacee-8c6d-40c4-abbf-51ab49cc5a7e"
      },
      "execution_count": null,
      "outputs": [
        {
          "output_type": "stream",
          "name": "stdout",
          "text": [
            " In 2021, the company added four new business objectives: (1) licensing, trading, and service business related to intellectual property and other intangible assets; (2) investment, management, and operation related to new technology or new business; (3) research, development, production, trading, and investment related to cosmetics, especially color lenses; and (4) environmental-related business, including setting up company policies for ESG management through environmental compliance. The company also moved its headquarters from Jinwi-myeon, Pyeongtaek-si, Gyeonggi-do to Mogok-dong, Pyeongtaek-si, Gyeonggi-do. The management team was also changed, with Noh Si-cheol as the internal director, Yoon Se-bong as the external director, and Jeong Han-gi as the auditor.\n"
          ]
        }
      ]
    }
  ]
}